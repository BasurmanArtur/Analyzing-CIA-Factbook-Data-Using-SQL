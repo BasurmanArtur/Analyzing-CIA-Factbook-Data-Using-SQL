{
 "cells": [
  {
   "cell_type": "markdown",
   "metadata": {},
   "source": [
    "# Analyzing CIA Factbook Data Using SQL\n",
    "\n",
    "In this project, we will be analyzing the [CIA Factbook Data](https://www.cia.gov/library/publications/the-world-factbook/) that contains information about each world's state/territory and in particular:\n",
    "* Population as of 2015.\n",
    "* Population growth - the annual growth, in percentage.\n",
    "* Area - the total land and water area.\n",
    "\n",
    "We will figure out:\n",
    "* Which country has the least population?\n",
    "* Which country has the largest population growth?\n",
    "* Average population, area and density of a country.\n",
    "* Which country has the maximum density?\n",
    "* Which country would have added the most people in 2016? The least?\n",
    "* Which countries have a higher death rate than birth rate?\n",
    "* What countries have the highest population/area ratio?\n",
    "\n",
    "## Get to Know the Data\n",
    "\n",
    "Before we jump to analysis, let's study the data we have."
   ]
  },
  {
   "cell_type": "code",
   "execution_count": 1,
   "metadata": {},
   "outputs": [],
   "source": [
    "%%capture\n",
    "%load_ext sql\n",
    "%sql sqlite:///factbook.db"
   ]
  },
  {
   "cell_type": "code",
   "execution_count": 2,
   "metadata": {},
   "outputs": [
    {
     "name": "stdout",
     "output_type": "stream",
     "text": [
      " * sqlite:///factbook.db\n",
      "Done.\n"
     ]
    },
    {
     "data": {
      "text/html": [
       "<table>\n",
       "    <tr>\n",
       "        <th>type</th>\n",
       "        <th>name</th>\n",
       "        <th>tbl_name</th>\n",
       "        <th>rootpage</th>\n",
       "        <th>sql</th>\n",
       "    </tr>\n",
       "    <tr>\n",
       "        <td>table</td>\n",
       "        <td>sqlite_sequence</td>\n",
       "        <td>sqlite_sequence</td>\n",
       "        <td>3</td>\n",
       "        <td>CREATE TABLE sqlite_sequence(name,seq)</td>\n",
       "    </tr>\n",
       "    <tr>\n",
       "        <td>table</td>\n",
       "        <td>facts</td>\n",
       "        <td>facts</td>\n",
       "        <td>47</td>\n",
       "        <td>CREATE TABLE &quot;facts&quot; (&quot;id&quot; INTEGER PRIMARY KEY AUTOINCREMENT NOT NULL, &quot;code&quot; varchar(255) NOT NULL, &quot;name&quot; varchar(255) NOT NULL, &quot;area&quot; integer, &quot;area_land&quot; integer, &quot;area_water&quot; integer, &quot;population&quot; integer, &quot;population_growth&quot; float, &quot;birth_rate&quot; float, &quot;death_rate&quot; float, &quot;migration_rate&quot; float)</td>\n",
       "    </tr>\n",
       "</table>"
      ],
      "text/plain": [
       "[('table', 'sqlite_sequence', 'sqlite_sequence', 3, 'CREATE TABLE sqlite_sequence(name,seq)'),\n",
       " ('table', 'facts', 'facts', 47, 'CREATE TABLE \"facts\" (\"id\" INTEGER PRIMARY KEY AUTOINCREMENT NOT NULL, \"code\" varchar(255) NOT NULL, \"name\" varchar(255) NOT NULL, \"area\" integer, \"a ... (4 characters truncated) ... land\" integer, \"area_water\" integer, \"population\" integer, \"population_growth\" float, \"birth_rate\" float, \"death_rate\" float, \"migration_rate\" float)')]"
      ]
     },
     "execution_count": 2,
     "metadata": {},
     "output_type": "execute_result"
    }
   ],
   "source": [
    "%%sql\n",
    "SELECT *\n",
    "  FROM sqlite_master\n",
    " WHERE type='table';"
   ]
  },
  {
   "cell_type": "markdown",
   "metadata": {},
   "source": [
    "We see that this database contains two tables: `sqlite_sequence` and `facts`. For our project, we are only interested in the second table that contains facts about countries. Let's have look at this table."
   ]
  },
  {
   "cell_type": "code",
   "execution_count": 3,
   "metadata": {},
   "outputs": [
    {
     "name": "stdout",
     "output_type": "stream",
     "text": [
      " * sqlite:///factbook.db\n",
      "Done.\n"
     ]
    },
    {
     "data": {
      "text/html": [
       "<table>\n",
       "    <tr>\n",
       "        <th>id</th>\n",
       "        <th>code</th>\n",
       "        <th>name</th>\n",
       "        <th>area</th>\n",
       "        <th>area_land</th>\n",
       "        <th>area_water</th>\n",
       "        <th>population</th>\n",
       "        <th>population_growth</th>\n",
       "        <th>birth_rate</th>\n",
       "        <th>death_rate</th>\n",
       "        <th>migration_rate</th>\n",
       "    </tr>\n",
       "    <tr>\n",
       "        <td>1</td>\n",
       "        <td>af</td>\n",
       "        <td>Afghanistan</td>\n",
       "        <td>652230</td>\n",
       "        <td>652230</td>\n",
       "        <td>0</td>\n",
       "        <td>32564342</td>\n",
       "        <td>2.32</td>\n",
       "        <td>38.57</td>\n",
       "        <td>13.89</td>\n",
       "        <td>1.51</td>\n",
       "    </tr>\n",
       "    <tr>\n",
       "        <td>2</td>\n",
       "        <td>al</td>\n",
       "        <td>Albania</td>\n",
       "        <td>28748</td>\n",
       "        <td>27398</td>\n",
       "        <td>1350</td>\n",
       "        <td>3029278</td>\n",
       "        <td>0.3</td>\n",
       "        <td>12.92</td>\n",
       "        <td>6.58</td>\n",
       "        <td>3.3</td>\n",
       "    </tr>\n",
       "    <tr>\n",
       "        <td>3</td>\n",
       "        <td>ag</td>\n",
       "        <td>Algeria</td>\n",
       "        <td>2381741</td>\n",
       "        <td>2381741</td>\n",
       "        <td>0</td>\n",
       "        <td>39542166</td>\n",
       "        <td>1.84</td>\n",
       "        <td>23.67</td>\n",
       "        <td>4.31</td>\n",
       "        <td>0.92</td>\n",
       "    </tr>\n",
       "    <tr>\n",
       "        <td>4</td>\n",
       "        <td>an</td>\n",
       "        <td>Andorra</td>\n",
       "        <td>468</td>\n",
       "        <td>468</td>\n",
       "        <td>0</td>\n",
       "        <td>85580</td>\n",
       "        <td>0.12</td>\n",
       "        <td>8.13</td>\n",
       "        <td>6.96</td>\n",
       "        <td>0.0</td>\n",
       "    </tr>\n",
       "    <tr>\n",
       "        <td>5</td>\n",
       "        <td>ao</td>\n",
       "        <td>Angola</td>\n",
       "        <td>1246700</td>\n",
       "        <td>1246700</td>\n",
       "        <td>0</td>\n",
       "        <td>19625353</td>\n",
       "        <td>2.78</td>\n",
       "        <td>38.78</td>\n",
       "        <td>11.49</td>\n",
       "        <td>0.46</td>\n",
       "    </tr>\n",
       "</table>"
      ],
      "text/plain": [
       "[(1, 'af', 'Afghanistan', 652230, 652230, 0, 32564342, 2.32, 38.57, 13.89, 1.51),\n",
       " (2, 'al', 'Albania', 28748, 27398, 1350, 3029278, 0.3, 12.92, 6.58, 3.3),\n",
       " (3, 'ag', 'Algeria', 2381741, 2381741, 0, 39542166, 1.84, 23.67, 4.31, 0.92),\n",
       " (4, 'an', 'Andorra', 468, 468, 0, 85580, 0.12, 8.13, 6.96, 0.0),\n",
       " (5, 'ao', 'Angola', 1246700, 1246700, 0, 19625353, 2.78, 38.78, 11.49, 0.46)]"
      ]
     },
     "execution_count": 3,
     "metadata": {},
     "output_type": "execute_result"
    }
   ],
   "source": [
    "%%sql\n",
    "SELECT *\n",
    "  FROM facts\n",
    " LIMIT 5;"
   ]
  },
  {
   "cell_type": "markdown",
   "metadata": {},
   "source": [
    "The first columns are pretty self-explainable (or already explained, like `population_growth`). The columns `birth_rate`, `death_rate` and `migration_rate` are to be considered as per 1000 persons, and are calculated as an average rate during the year.\n",
    "\n",
    "The areas (land and water) are measured in square kilometers.\n",
    "\n",
    "## Summary Statistics\n",
    "Let's calculate some summary statics such as:\n",
    "* Minimum population.\n",
    "* Maximum population.\n",
    "* Minimum population growth.\n",
    "* Maximum population growth.\n",
    "\n",
    "### Minimum and Maximum Population"
   ]
  },
  {
   "cell_type": "code",
   "execution_count": 4,
   "metadata": {},
   "outputs": [
    {
     "name": "stdout",
     "output_type": "stream",
     "text": [
      " * sqlite:///factbook.db\n",
      "Done.\n"
     ]
    },
    {
     "data": {
      "text/html": [
       "<table>\n",
       "    <tr>\n",
       "        <th>MIN(population)</th>\n",
       "        <th>MAX(population)</th>\n",
       "        <th>MIN(population_growth)</th>\n",
       "        <th>MAX(population_growth)</th>\n",
       "    </tr>\n",
       "    <tr>\n",
       "        <td>0</td>\n",
       "        <td>7256490011</td>\n",
       "        <td>0.0</td>\n",
       "        <td>4.02</td>\n",
       "    </tr>\n",
       "</table>"
      ],
      "text/plain": [
       "[(0, 7256490011, 0.0, 4.02)]"
      ]
     },
     "execution_count": 4,
     "metadata": {},
     "output_type": "execute_result"
    }
   ],
   "source": [
    "%%sql\n",
    "SELECT MIN(population), MAX(population),\n",
    "       MIN(population_growth), MAX(population_growth)\n",
    "  FROM facts;"
   ]
  },
  {
   "cell_type": "markdown",
   "metadata": {},
   "source": [
    "As far as we can see, the minimum population is 0? What is the territory where nobody lives? It's probably the Antarctic or the Arctic. The maximum population is the whole's world population. We also have a country with 0 population growth (it probably has no population at all?).\n",
    "\n",
    "Let's investigate the \"countries\" with 0 and 7,2 billion populations."
   ]
  },
  {
   "cell_type": "code",
   "execution_count": 5,
   "metadata": {},
   "outputs": [
    {
     "name": "stdout",
     "output_type": "stream",
     "text": [
      " * sqlite:///factbook.db\n",
      "Done.\n"
     ]
    },
    {
     "data": {
      "text/html": [
       "<table>\n",
       "    <tr>\n",
       "        <th>name</th>\n",
       "        <th>max_population</th>\n",
       "    </tr>\n",
       "    <tr>\n",
       "        <td>World</td>\n",
       "        <td>7256490011</td>\n",
       "    </tr>\n",
       "</table>"
      ],
      "text/plain": [
       "[('World', 7256490011)]"
      ]
     },
     "execution_count": 5,
     "metadata": {},
     "output_type": "execute_result"
    }
   ],
   "source": [
    "%%sql\n",
    "SELECT name, MAX(population) max_population\n",
    "  FROM facts;"
   ]
  },
  {
   "cell_type": "code",
   "execution_count": 6,
   "metadata": {},
   "outputs": [
    {
     "name": "stdout",
     "output_type": "stream",
     "text": [
      " * sqlite:///factbook.db\n",
      "Done.\n"
     ]
    },
    {
     "data": {
      "text/html": [
       "<table>\n",
       "    <tr>\n",
       "        <th>name</th>\n",
       "        <th>min_population</th>\n",
       "    </tr>\n",
       "    <tr>\n",
       "        <td>Antarctica</td>\n",
       "        <td>0</td>\n",
       "    </tr>\n",
       "</table>"
      ],
      "text/plain": [
       "[('Antarctica', 0)]"
      ]
     },
     "execution_count": 6,
     "metadata": {},
     "output_type": "execute_result"
    }
   ],
   "source": [
    "%%sql\n",
    "SELECT name, MIN(population) min_population\n",
    "  FROM facts;"
   ]
  },
  {
   "cell_type": "markdown",
   "metadata": {},
   "source": [
    "It's clear now that the database has two entries: *World* which has the largest population (the world's population) and *Antarctica*, a continent with no permanent inhabitants. In the  Antractica there only permanent and summer-only [research bases](https://en.wikipedia.org/wiki/Research_stations_in_Antarctica).\n",
    "\n",
    "Let's exclude the whole world and the Antarctica from summary statistics."
   ]
  },
  {
   "cell_type": "code",
   "execution_count": 7,
   "metadata": {},
   "outputs": [
    {
     "name": "stdout",
     "output_type": "stream",
     "text": [
      " * sqlite:///factbook.db\n",
      "Done.\n"
     ]
    },
    {
     "data": {
      "text/html": [
       "<table>\n",
       "    <tr>\n",
       "        <th>MIN(population)</th>\n",
       "        <th>MAX(population)</th>\n",
       "        <th>MIN(population_growth)</th>\n",
       "        <th>MAX(population_growth)</th>\n",
       "    </tr>\n",
       "    <tr>\n",
       "        <td>48</td>\n",
       "        <td>1367485388</td>\n",
       "        <td>0.0</td>\n",
       "        <td>4.02</td>\n",
       "    </tr>\n",
       "</table>"
      ],
      "text/plain": [
       "[(48, 1367485388, 0.0, 4.02)]"
      ]
     },
     "execution_count": 7,
     "metadata": {},
     "output_type": "execute_result"
    }
   ],
   "source": [
    "%%sql\n",
    "SELECT MIN(population), MAX(population),\n",
    "       MIN(population_growth), MAX(population_growth)\n",
    "  FROM facts\n",
    " WHERE name NOT IN (\"World\", \"Antarctica\");"
   ]
  },
  {
   "cell_type": "markdown",
   "metadata": {},
   "source": [
    "It's obvious that the country with the maximum population is [China](https://en.wikipedia.org/wiki/China), but what is the country with only 48 persons living in there? Is it Vatican? "
   ]
  },
  {
   "cell_type": "code",
   "execution_count": 8,
   "metadata": {},
   "outputs": [
    {
     "name": "stdout",
     "output_type": "stream",
     "text": [
      " * sqlite:///factbook.db\n",
      "Done.\n"
     ]
    },
    {
     "data": {
      "text/html": [
       "<table>\n",
       "    <tr>\n",
       "        <th>name</th>\n",
       "        <th>min_population</th>\n",
       "    </tr>\n",
       "    <tr>\n",
       "        <td>Pitcairn Islands</td>\n",
       "        <td>48</td>\n",
       "    </tr>\n",
       "</table>"
      ],
      "text/plain": [
       "[('Pitcairn Islands', 48)]"
      ]
     },
     "execution_count": 8,
     "metadata": {},
     "output_type": "execute_result"
    }
   ],
   "source": [
    "%%sql\n",
    "SELECT name, MIN(population) AS min_population\n",
    "  FROM facts\n",
    " WHERE name NOT IN (\"World\", \"Antarctica\");"
   ]
  },
  {
   "cell_type": "markdown",
   "metadata": {},
   "source": [
    "It's not Vatican! [Pitcairn Islands](https://en.wikipedia.org/wiki/Pitcairn_Islands) are a group of four volcanic islands the least populous jurisdiction  territory in the world. They are a part of British Overseas Territory in Pacific Ocean. When you are tired of the life you may want to move there for a couple of months (not an advertisement).\n",
    "\n",
    "\n",
    "### Maximum Population Growth\n",
    "\n",
    "Let's now see what is the county with the maximum population growth (since the minimum population growth is 0, it fair to think there are many countries with such value, in other words they have no population growth)."
   ]
  },
  {
   "cell_type": "code",
   "execution_count": 9,
   "metadata": {},
   "outputs": [
    {
     "name": "stdout",
     "output_type": "stream",
     "text": [
      " * sqlite:///factbook.db\n",
      "Done.\n"
     ]
    },
    {
     "data": {
      "text/html": [
       "<table>\n",
       "    <tr>\n",
       "        <th>name</th>\n",
       "        <th>population_growth</th>\n",
       "    </tr>\n",
       "    <tr>\n",
       "        <td>South Sudan</td>\n",
       "        <td>4.02</td>\n",
       "    </tr>\n",
       "</table>"
      ],
      "text/plain": [
       "[('South Sudan', 4.02)]"
      ]
     },
     "execution_count": 9,
     "metadata": {},
     "output_type": "execute_result"
    }
   ],
   "source": [
    "%%sql \n",
    "SELECT name, MAX(population_growth) population_growth\n",
    "  FROM facts;"
   ]
  },
  {
   "cell_type": "markdown",
   "metadata": {},
   "source": [
    "[South Sudan](https://en.wikipedia.org/wiki/South_Sudan) is the most recent sovereign state and one of the poorest states in the world. It's no surprise it has the highest population growth rate in the world.\n",
    "\n",
    "### Average Area and Population\n",
    "\n",
    "Let's calculate the average number for `area` and `population` excluding the Antarctica and the world. It's worth noting that the world, Antarctica  and the oceans (i.e. Pacific, Indian) have no values for the area, but there is the area of the European Union that we have to exclude from our calculation (all its countries are already present in the table)."
   ]
  },
  {
   "cell_type": "code",
   "execution_count": 10,
   "metadata": {},
   "outputs": [
    {
     "name": "stdout",
     "output_type": "stream",
     "text": [
      " * sqlite:///factbook.db\n",
      "Done.\n"
     ]
    },
    {
     "data": {
      "text/html": [
       "<table>\n",
       "    <tr>\n",
       "        <th>avg_country_area</th>\n",
       "    </tr>\n",
       "    <tr>\n",
       "        <td>539893.1895161291</td>\n",
       "    </tr>\n",
       "</table>"
      ],
      "text/plain": [
       "[(539893.1895161291,)]"
      ]
     },
     "execution_count": 10,
     "metadata": {},
     "output_type": "execute_result"
    }
   ],
   "source": [
    "%%sql\n",
    "SELECT AVG(area) avg_country_area\n",
    "  FROM facts\n",
    " WHERE name != \"European Union\";"
   ]
  },
  {
   "cell_type": "markdown",
   "metadata": {},
   "source": [
    "It's 539 893 square kilometers, an area comparable to [Metropolitan France](https://en.wikipedia.org/wiki/Metropolitan_France)! Let's figure out the number of states that have an area bigger than their average."
   ]
  },
  {
   "cell_type": "code",
   "execution_count": 11,
   "metadata": {},
   "outputs": [
    {
     "name": "stdout",
     "output_type": "stream",
     "text": [
      " * sqlite:///factbook.db\n",
      "Done.\n"
     ]
    },
    {
     "data": {
      "text/html": [
       "<table>\n",
       "    <tr>\n",
       "        <th>COUNT(*)</th>\n",
       "    </tr>\n",
       "    <tr>\n",
       "        <td>48</td>\n",
       "    </tr>\n",
       "</table>"
      ],
      "text/plain": [
       "[(48,)]"
      ]
     },
     "execution_count": 11,
     "metadata": {},
     "output_type": "execute_result"
    }
   ],
   "source": [
    "%%sql\n",
    "SELECT COUNT(*)\n",
    "  FROM facts\n",
    " WHERE area > (SELECT AVG(area) FROM facts\n",
    "                WHERE name NOT IN (\"European Union\")\n",
    "              );"
   ]
  },
  {
   "cell_type": "markdown",
   "metadata": {},
   "source": [
    "There are 48 countries out of 195 countries that are bigger than the average country area. Let's write a query to figure out which countries have areas above average."
   ]
  },
  {
   "cell_type": "code",
   "execution_count": 12,
   "metadata": {},
   "outputs": [
    {
     "name": "stdout",
     "output_type": "stream",
     "text": [
      " * sqlite:///factbook.db\n",
      "Done.\n"
     ]
    },
    {
     "data": {
      "text/html": [
       "<table>\n",
       "    <tr>\n",
       "        <th>name</th>\n",
       "        <th>area</th>\n",
       "    </tr>\n",
       "    <tr>\n",
       "        <td>Russia</td>\n",
       "        <td>17098242</td>\n",
       "    </tr>\n",
       "    <tr>\n",
       "        <td>Canada</td>\n",
       "        <td>9984670</td>\n",
       "    </tr>\n",
       "    <tr>\n",
       "        <td>United States</td>\n",
       "        <td>9826675</td>\n",
       "    </tr>\n",
       "    <tr>\n",
       "        <td>China</td>\n",
       "        <td>9596960</td>\n",
       "    </tr>\n",
       "    <tr>\n",
       "        <td>Brazil</td>\n",
       "        <td>8515770</td>\n",
       "    </tr>\n",
       "    <tr>\n",
       "        <td>Australia</td>\n",
       "        <td>7741220</td>\n",
       "    </tr>\n",
       "    <tr>\n",
       "        <td>European Union</td>\n",
       "        <td>4324782</td>\n",
       "    </tr>\n",
       "    <tr>\n",
       "        <td>India</td>\n",
       "        <td>3287263</td>\n",
       "    </tr>\n",
       "    <tr>\n",
       "        <td>Argentina</td>\n",
       "        <td>2780400</td>\n",
       "    </tr>\n",
       "    <tr>\n",
       "        <td>Kazakhstan</td>\n",
       "        <td>2724900</td>\n",
       "    </tr>\n",
       "    <tr>\n",
       "        <td>Algeria</td>\n",
       "        <td>2381741</td>\n",
       "    </tr>\n",
       "    <tr>\n",
       "        <td>Congo, Democratic Republic of the</td>\n",
       "        <td>2344858</td>\n",
       "    </tr>\n",
       "    <tr>\n",
       "        <td>Greenland</td>\n",
       "        <td>2166086</td>\n",
       "    </tr>\n",
       "    <tr>\n",
       "        <td>Saudi Arabia</td>\n",
       "        <td>2149690</td>\n",
       "    </tr>\n",
       "    <tr>\n",
       "        <td>Mexico</td>\n",
       "        <td>1964375</td>\n",
       "    </tr>\n",
       "    <tr>\n",
       "        <td>Indonesia</td>\n",
       "        <td>1904569</td>\n",
       "    </tr>\n",
       "    <tr>\n",
       "        <td>Sudan</td>\n",
       "        <td>1861484</td>\n",
       "    </tr>\n",
       "    <tr>\n",
       "        <td>Libya</td>\n",
       "        <td>1759540</td>\n",
       "    </tr>\n",
       "    <tr>\n",
       "        <td>Iran</td>\n",
       "        <td>1648195</td>\n",
       "    </tr>\n",
       "    <tr>\n",
       "        <td>Mongolia</td>\n",
       "        <td>1564116</td>\n",
       "    </tr>\n",
       "    <tr>\n",
       "        <td>Peru</td>\n",
       "        <td>1285216</td>\n",
       "    </tr>\n",
       "    <tr>\n",
       "        <td>Angola</td>\n",
       "        <td>1246700</td>\n",
       "    </tr>\n",
       "    <tr>\n",
       "        <td>Mali</td>\n",
       "        <td>1240192</td>\n",
       "    </tr>\n",
       "    <tr>\n",
       "        <td>South Africa</td>\n",
       "        <td>1219090</td>\n",
       "    </tr>\n",
       "    <tr>\n",
       "        <td>Colombia</td>\n",
       "        <td>1138910</td>\n",
       "    </tr>\n",
       "    <tr>\n",
       "        <td>Ethiopia</td>\n",
       "        <td>1104300</td>\n",
       "    </tr>\n",
       "    <tr>\n",
       "        <td>Bolivia</td>\n",
       "        <td>1098581</td>\n",
       "    </tr>\n",
       "    <tr>\n",
       "        <td>Mauritania</td>\n",
       "        <td>1030700</td>\n",
       "    </tr>\n",
       "    <tr>\n",
       "        <td>Egypt</td>\n",
       "        <td>1001450</td>\n",
       "    </tr>\n",
       "    <tr>\n",
       "        <td>Tanzania</td>\n",
       "        <td>947300</td>\n",
       "    </tr>\n",
       "    <tr>\n",
       "        <td>Nigeria</td>\n",
       "        <td>923768</td>\n",
       "    </tr>\n",
       "    <tr>\n",
       "        <td>Venezuela</td>\n",
       "        <td>912050</td>\n",
       "    </tr>\n",
       "    <tr>\n",
       "        <td>Namibia</td>\n",
       "        <td>824292</td>\n",
       "    </tr>\n",
       "    <tr>\n",
       "        <td>Mozambique</td>\n",
       "        <td>799380</td>\n",
       "    </tr>\n",
       "    <tr>\n",
       "        <td>Pakistan</td>\n",
       "        <td>796095</td>\n",
       "    </tr>\n",
       "    <tr>\n",
       "        <td>Turkey</td>\n",
       "        <td>783562</td>\n",
       "    </tr>\n",
       "    <tr>\n",
       "        <td>Chile</td>\n",
       "        <td>756102</td>\n",
       "    </tr>\n",
       "    <tr>\n",
       "        <td>Zambia</td>\n",
       "        <td>752618</td>\n",
       "    </tr>\n",
       "    <tr>\n",
       "        <td>Burma</td>\n",
       "        <td>676578</td>\n",
       "    </tr>\n",
       "    <tr>\n",
       "        <td>Afghanistan</td>\n",
       "        <td>652230</td>\n",
       "    </tr>\n",
       "    <tr>\n",
       "        <td>South Sudan</td>\n",
       "        <td>644329</td>\n",
       "    </tr>\n",
       "    <tr>\n",
       "        <td>France</td>\n",
       "        <td>643801</td>\n",
       "    </tr>\n",
       "    <tr>\n",
       "        <td>Somalia</td>\n",
       "        <td>637657</td>\n",
       "    </tr>\n",
       "    <tr>\n",
       "        <td>Central African Republic</td>\n",
       "        <td>622984</td>\n",
       "    </tr>\n",
       "    <tr>\n",
       "        <td>Ukraine</td>\n",
       "        <td>603550</td>\n",
       "    </tr>\n",
       "    <tr>\n",
       "        <td>Madagascar</td>\n",
       "        <td>587041</td>\n",
       "    </tr>\n",
       "    <tr>\n",
       "        <td>Botswana</td>\n",
       "        <td>581730</td>\n",
       "    </tr>\n",
       "    <tr>\n",
       "        <td>Kenya</td>\n",
       "        <td>580367</td>\n",
       "    </tr>\n",
       "</table>"
      ],
      "text/plain": [
       "[('Russia', 17098242),\n",
       " ('Canada', 9984670),\n",
       " ('United States', 9826675),\n",
       " ('China', 9596960),\n",
       " ('Brazil', 8515770),\n",
       " ('Australia', 7741220),\n",
       " ('European Union', 4324782),\n",
       " ('India', 3287263),\n",
       " ('Argentina', 2780400),\n",
       " ('Kazakhstan', 2724900),\n",
       " ('Algeria', 2381741),\n",
       " ('Congo, Democratic Republic of the', 2344858),\n",
       " ('Greenland', 2166086),\n",
       " ('Saudi Arabia', 2149690),\n",
       " ('Mexico', 1964375),\n",
       " ('Indonesia', 1904569),\n",
       " ('Sudan', 1861484),\n",
       " ('Libya', 1759540),\n",
       " ('Iran', 1648195),\n",
       " ('Mongolia', 1564116),\n",
       " ('Peru', 1285216),\n",
       " ('Angola', 1246700),\n",
       " ('Mali', 1240192),\n",
       " ('South Africa', 1219090),\n",
       " ('Colombia', 1138910),\n",
       " ('Ethiopia', 1104300),\n",
       " ('Bolivia', 1098581),\n",
       " ('Mauritania', 1030700),\n",
       " ('Egypt', 1001450),\n",
       " ('Tanzania', 947300),\n",
       " ('Nigeria', 923768),\n",
       " ('Venezuela', 912050),\n",
       " ('Namibia', 824292),\n",
       " ('Mozambique', 799380),\n",
       " ('Pakistan', 796095),\n",
       " ('Turkey', 783562),\n",
       " ('Chile', 756102),\n",
       " ('Zambia', 752618),\n",
       " ('Burma', 676578),\n",
       " ('Afghanistan', 652230),\n",
       " ('South Sudan', 644329),\n",
       " ('France', 643801),\n",
       " ('Somalia', 637657),\n",
       " ('Central African Republic', 622984),\n",
       " ('Ukraine', 603550),\n",
       " ('Madagascar', 587041),\n",
       " ('Botswana', 581730),\n",
       " ('Kenya', 580367)]"
      ]
     },
     "execution_count": 12,
     "metadata": {},
     "output_type": "execute_result"
    }
   ],
   "source": [
    "%%sql\n",
    "SELECT name, area\n",
    "  FROM facts\n",
    " WHERE area > (SELECT AVG(area) FROM facts\n",
    "                WHERE name NOT IN (\"European Union\")\n",
    "              )\n",
    " ORDER BY area DESC;"
   ]
  },
  {
   "cell_type": "markdown",
   "metadata": {},
   "source": [
    "Let's do the same statistics for `population`. This time though we have to exclude the world and Antarctica since they have values in the `population` column. We additionally have to exclude the European Union."
   ]
  },
  {
   "cell_type": "code",
   "execution_count": 13,
   "metadata": {},
   "outputs": [
    {
     "name": "stdout",
     "output_type": "stream",
     "text": [
      " * sqlite:///factbook.db\n",
      "Done.\n"
     ]
    },
    {
     "data": {
      "text/html": [
       "<table>\n",
       "    <tr>\n",
       "        <th>avg_world_population</th>\n",
       "    </tr>\n",
       "    <tr>\n",
       "        <td>30362063.589958157</td>\n",
       "    </tr>\n",
       "</table>"
      ],
      "text/plain": [
       "[(30362063.589958157,)]"
      ]
     },
     "execution_count": 13,
     "metadata": {},
     "output_type": "execute_result"
    }
   ],
   "source": [
    "%%sql \n",
    "SELECT AVG(population) avg_world_population\n",
    "  FROM facts\n",
    " WHERE name NOT IN (\"World\", \"Antarctica\", \"European Union\");"
   ]
  },
  {
   "cell_type": "markdown",
   "metadata": {},
   "source": [
    "There are more than 30 million people on average living in each country. It's around the population in Mozambique. Let's then count the number of countries that have more people than the average population."
   ]
  },
  {
   "cell_type": "code",
   "execution_count": 14,
   "metadata": {},
   "outputs": [
    {
     "name": "stdout",
     "output_type": "stream",
     "text": [
      " * sqlite:///factbook.db\n",
      "Done.\n"
     ]
    },
    {
     "data": {
      "text/html": [
       "<table>\n",
       "    <tr>\n",
       "        <th>COUNT(*)</th>\n",
       "    </tr>\n",
       "    <tr>\n",
       "        <td>45</td>\n",
       "    </tr>\n",
       "</table>"
      ],
      "text/plain": [
       "[(45,)]"
      ]
     },
     "execution_count": 14,
     "metadata": {},
     "output_type": "execute_result"
    }
   ],
   "source": [
    "%%sql\n",
    "SELECT COUNT(*)\n",
    "  FROM facts\n",
    " WHERE population > (SELECT AVG(population) FROM facts \n",
    "                     WHERE name NOT IN (\"World\", \"European Union\", \"Antarctica\"));"
   ]
  },
  {
   "cell_type": "markdown",
   "metadata": {},
   "source": [
    "There are 45 (43 without the world and European Union) countries that have a population bigger than the average world's population! Let's figure out what this countries are and order them by population (from the highest to the lowest)."
   ]
  },
  {
   "cell_type": "code",
   "execution_count": 15,
   "metadata": {},
   "outputs": [
    {
     "name": "stdout",
     "output_type": "stream",
     "text": [
      " * sqlite:///factbook.db\n",
      "Done.\n"
     ]
    },
    {
     "data": {
      "text/html": [
       "<table>\n",
       "    <tr>\n",
       "        <th>name</th>\n",
       "        <th>population</th>\n",
       "    </tr>\n",
       "    <tr>\n",
       "        <td>China</td>\n",
       "        <td>1367485388</td>\n",
       "    </tr>\n",
       "    <tr>\n",
       "        <td>India</td>\n",
       "        <td>1251695584</td>\n",
       "    </tr>\n",
       "    <tr>\n",
       "        <td>United States</td>\n",
       "        <td>321368864</td>\n",
       "    </tr>\n",
       "    <tr>\n",
       "        <td>Indonesia</td>\n",
       "        <td>255993674</td>\n",
       "    </tr>\n",
       "    <tr>\n",
       "        <td>Brazil</td>\n",
       "        <td>204259812</td>\n",
       "    </tr>\n",
       "    <tr>\n",
       "        <td>Pakistan</td>\n",
       "        <td>199085847</td>\n",
       "    </tr>\n",
       "    <tr>\n",
       "        <td>Nigeria</td>\n",
       "        <td>181562056</td>\n",
       "    </tr>\n",
       "    <tr>\n",
       "        <td>Bangladesh</td>\n",
       "        <td>168957745</td>\n",
       "    </tr>\n",
       "    <tr>\n",
       "        <td>Russia</td>\n",
       "        <td>142423773</td>\n",
       "    </tr>\n",
       "    <tr>\n",
       "        <td>Japan</td>\n",
       "        <td>126919659</td>\n",
       "    </tr>\n",
       "    <tr>\n",
       "        <td>Mexico</td>\n",
       "        <td>121736809</td>\n",
       "    </tr>\n",
       "    <tr>\n",
       "        <td>Philippines</td>\n",
       "        <td>100998376</td>\n",
       "    </tr>\n",
       "    <tr>\n",
       "        <td>Ethiopia</td>\n",
       "        <td>99465819</td>\n",
       "    </tr>\n",
       "    <tr>\n",
       "        <td>Vietnam</td>\n",
       "        <td>94348835</td>\n",
       "    </tr>\n",
       "    <tr>\n",
       "        <td>Egypt</td>\n",
       "        <td>88487396</td>\n",
       "    </tr>\n",
       "    <tr>\n",
       "        <td>Iran</td>\n",
       "        <td>81824270</td>\n",
       "    </tr>\n",
       "    <tr>\n",
       "        <td>Germany</td>\n",
       "        <td>80854408</td>\n",
       "    </tr>\n",
       "    <tr>\n",
       "        <td>Turkey</td>\n",
       "        <td>79414269</td>\n",
       "    </tr>\n",
       "    <tr>\n",
       "        <td>Congo, Democratic Republic of the</td>\n",
       "        <td>79375136</td>\n",
       "    </tr>\n",
       "    <tr>\n",
       "        <td>Thailand</td>\n",
       "        <td>67976405</td>\n",
       "    </tr>\n",
       "    <tr>\n",
       "        <td>France</td>\n",
       "        <td>66553766</td>\n",
       "    </tr>\n",
       "    <tr>\n",
       "        <td>United Kingdom</td>\n",
       "        <td>64088222</td>\n",
       "    </tr>\n",
       "    <tr>\n",
       "        <td>Italy</td>\n",
       "        <td>61855120</td>\n",
       "    </tr>\n",
       "    <tr>\n",
       "        <td>Burma</td>\n",
       "        <td>56320206</td>\n",
       "    </tr>\n",
       "    <tr>\n",
       "        <td>South Africa</td>\n",
       "        <td>53675563</td>\n",
       "    </tr>\n",
       "    <tr>\n",
       "        <td>Tanzania</td>\n",
       "        <td>51045882</td>\n",
       "    </tr>\n",
       "    <tr>\n",
       "        <td>Korea, South</td>\n",
       "        <td>49115196</td>\n",
       "    </tr>\n",
       "    <tr>\n",
       "        <td>Spain</td>\n",
       "        <td>48146134</td>\n",
       "    </tr>\n",
       "    <tr>\n",
       "        <td>Colombia</td>\n",
       "        <td>46736728</td>\n",
       "    </tr>\n",
       "    <tr>\n",
       "        <td>Kenya</td>\n",
       "        <td>45925301</td>\n",
       "    </tr>\n",
       "    <tr>\n",
       "        <td>Ukraine</td>\n",
       "        <td>44429471</td>\n",
       "    </tr>\n",
       "    <tr>\n",
       "        <td>Argentina</td>\n",
       "        <td>43431886</td>\n",
       "    </tr>\n",
       "    <tr>\n",
       "        <td>Algeria</td>\n",
       "        <td>39542166</td>\n",
       "    </tr>\n",
       "    <tr>\n",
       "        <td>Poland</td>\n",
       "        <td>38562189</td>\n",
       "    </tr>\n",
       "    <tr>\n",
       "        <td>Uganda</td>\n",
       "        <td>37101745</td>\n",
       "    </tr>\n",
       "    <tr>\n",
       "        <td>Iraq</td>\n",
       "        <td>37056169</td>\n",
       "    </tr>\n",
       "    <tr>\n",
       "        <td>Sudan</td>\n",
       "        <td>36108853</td>\n",
       "    </tr>\n",
       "    <tr>\n",
       "        <td>Canada</td>\n",
       "        <td>35099836</td>\n",
       "    </tr>\n",
       "    <tr>\n",
       "        <td>Morocco</td>\n",
       "        <td>33322699</td>\n",
       "    </tr>\n",
       "    <tr>\n",
       "        <td>Afghanistan</td>\n",
       "        <td>32564342</td>\n",
       "    </tr>\n",
       "    <tr>\n",
       "        <td>Nepal</td>\n",
       "        <td>31551305</td>\n",
       "    </tr>\n",
       "    <tr>\n",
       "        <td>Malaysia</td>\n",
       "        <td>30513848</td>\n",
       "    </tr>\n",
       "    <tr>\n",
       "        <td>Peru</td>\n",
       "        <td>30444999</td>\n",
       "    </tr>\n",
       "</table>"
      ],
      "text/plain": [
       "[('China', 1367485388),\n",
       " ('India', 1251695584),\n",
       " ('United States', 321368864),\n",
       " ('Indonesia', 255993674),\n",
       " ('Brazil', 204259812),\n",
       " ('Pakistan', 199085847),\n",
       " ('Nigeria', 181562056),\n",
       " ('Bangladesh', 168957745),\n",
       " ('Russia', 142423773),\n",
       " ('Japan', 126919659),\n",
       " ('Mexico', 121736809),\n",
       " ('Philippines', 100998376),\n",
       " ('Ethiopia', 99465819),\n",
       " ('Vietnam', 94348835),\n",
       " ('Egypt', 88487396),\n",
       " ('Iran', 81824270),\n",
       " ('Germany', 80854408),\n",
       " ('Turkey', 79414269),\n",
       " ('Congo, Democratic Republic of the', 79375136),\n",
       " ('Thailand', 67976405),\n",
       " ('France', 66553766),\n",
       " ('United Kingdom', 64088222),\n",
       " ('Italy', 61855120),\n",
       " ('Burma', 56320206),\n",
       " ('South Africa', 53675563),\n",
       " ('Tanzania', 51045882),\n",
       " ('Korea, South', 49115196),\n",
       " ('Spain', 48146134),\n",
       " ('Colombia', 46736728),\n",
       " ('Kenya', 45925301),\n",
       " ('Ukraine', 44429471),\n",
       " ('Argentina', 43431886),\n",
       " ('Algeria', 39542166),\n",
       " ('Poland', 38562189),\n",
       " ('Uganda', 37101745),\n",
       " ('Iraq', 37056169),\n",
       " ('Sudan', 36108853),\n",
       " ('Canada', 35099836),\n",
       " ('Morocco', 33322699),\n",
       " ('Afghanistan', 32564342),\n",
       " ('Nepal', 31551305),\n",
       " ('Malaysia', 30513848),\n",
       " ('Peru', 30444999)]"
      ]
     },
     "execution_count": 15,
     "metadata": {},
     "output_type": "execute_result"
    }
   ],
   "source": [
    "%%sql\n",
    "WITH more_avg_pop AS \n",
    "    (\n",
    "    SELECT name, population\n",
    "      FROM facts\n",
    "      WHERE population > (SELECT AVG(population) FROM facts\n",
    "                           WHERE name NOT IN (\"World\", \"European Union\", \"Antractica\")\n",
    "                         )\n",
    "    )\n",
    "\n",
    "SELECT name, population\n",
    "  FROM more_avg_pop\n",
    " WHERE name NOT IN (\"World\", \"European Union\")\n",
    " ORDER BY population DESC;"
   ]
  },
  {
   "cell_type": "markdown",
   "metadata": {},
   "source": [
    "It would be also interesting to figure out which proportion of the world's population the first three countries (China, India, USA) hold."
   ]
  },
  {
   "cell_type": "code",
   "execution_count": 16,
   "metadata": {},
   "outputs": [
    {
     "name": "stdout",
     "output_type": "stream",
     "text": [
      " * sqlite:///factbook.db\n",
      "Done.\n"
     ]
    },
    {
     "data": {
      "text/html": [
       "<table>\n",
       "    <tr>\n",
       "        <th>proportion (%)</th>\n",
       "    </tr>\n",
       "    <tr>\n",
       "        <td>40.52</td>\n",
       "    </tr>\n",
       "</table>"
      ],
      "text/plain": [
       "[(40.52,)]"
      ]
     },
     "execution_count": 16,
     "metadata": {},
     "output_type": "execute_result"
    }
   ],
   "source": [
    "%%sql\n",
    "WITH top_three_pop_proportion AS\n",
    "    (\n",
    "    SELECT CAST(Population AS FLOAT) / (SELECT MAX(Population) FROM facts) proportion\n",
    "      FROM facts\n",
    "     WHERE name NOT IN (\"World\", \"European Union\")\n",
    "     ORDER BY 1 DESC\n",
    "     LIMIT 3\n",
    "    )\n",
    "    \n",
    "SELECT ROUND(SUM(proportion) * 100, 2) \"proportion (%)\"\n",
    "  FROM top_three_pop_proportion"
   ]
  },
  {
   "cell_type": "markdown",
   "metadata": {},
   "source": [
    "Just three countries account for more than 40 percent of the world's population: China, India and USA with China and India having more than one billion people each."
   ]
  },
  {
   "cell_type": "markdown",
   "metadata": {},
   "source": [
    "### Population Densities\n",
    "\n",
    "Now let's calculate population densities. To do so we will have to divide the country's population by its land area (hopefully most people don't live in rivers or lakes). Let's also order them in descending order to find out the countries with the highest population density."
   ]
  },
  {
   "cell_type": "code",
   "execution_count": 17,
   "metadata": {},
   "outputs": [
    {
     "name": "stdout",
     "output_type": "stream",
     "text": [
      " * sqlite:///factbook.db\n",
      "Done.\n"
     ]
    },
    {
     "data": {
      "text/html": [
       "<table>\n",
       "    <tr>\n",
       "        <th>name</th>\n",
       "        <th>population</th>\n",
       "        <th>area</th>\n",
       "        <th>population_density</th>\n",
       "    </tr>\n",
       "    <tr>\n",
       "        <td>Macau</td>\n",
       "        <td>592731</td>\n",
       "        <td>28</td>\n",
       "        <td>21168.96</td>\n",
       "    </tr>\n",
       "    <tr>\n",
       "        <td>Monaco</td>\n",
       "        <td>30535</td>\n",
       "        <td>2</td>\n",
       "        <td>15267.5</td>\n",
       "    </tr>\n",
       "    <tr>\n",
       "        <td>Singapore</td>\n",
       "        <td>5674472</td>\n",
       "        <td>697</td>\n",
       "        <td>8259.78</td>\n",
       "    </tr>\n",
       "    <tr>\n",
       "        <td>Hong Kong</td>\n",
       "        <td>7141106</td>\n",
       "        <td>1108</td>\n",
       "        <td>6655.27</td>\n",
       "    </tr>\n",
       "    <tr>\n",
       "        <td>Gaza Strip</td>\n",
       "        <td>1869055</td>\n",
       "        <td>360</td>\n",
       "        <td>5191.82</td>\n",
       "    </tr>\n",
       "    <tr>\n",
       "        <td>Gibraltar</td>\n",
       "        <td>29258</td>\n",
       "        <td>6</td>\n",
       "        <td>4876.33</td>\n",
       "    </tr>\n",
       "    <tr>\n",
       "        <td>Bahrain</td>\n",
       "        <td>1346613</td>\n",
       "        <td>760</td>\n",
       "        <td>1771.86</td>\n",
       "    </tr>\n",
       "    <tr>\n",
       "        <td>Maldives</td>\n",
       "        <td>393253</td>\n",
       "        <td>298</td>\n",
       "        <td>1319.64</td>\n",
       "    </tr>\n",
       "    <tr>\n",
       "        <td>Malta</td>\n",
       "        <td>413965</td>\n",
       "        <td>316</td>\n",
       "        <td>1310.02</td>\n",
       "    </tr>\n",
       "    <tr>\n",
       "        <td>Bermuda</td>\n",
       "        <td>70196</td>\n",
       "        <td>54</td>\n",
       "        <td>1299.93</td>\n",
       "    </tr>\n",
       "</table>"
      ],
      "text/plain": [
       "[('Macau', 592731, 28, 21168.96),\n",
       " ('Monaco', 30535, 2, 15267.5),\n",
       " ('Singapore', 5674472, 697, 8259.78),\n",
       " ('Hong Kong', 7141106, 1108, 6655.27),\n",
       " ('Gaza Strip', 1869055, 360, 5191.82),\n",
       " ('Gibraltar', 29258, 6, 4876.33),\n",
       " ('Bahrain', 1346613, 760, 1771.86),\n",
       " ('Maldives', 393253, 298, 1319.64),\n",
       " ('Malta', 413965, 316, 1310.02),\n",
       " ('Bermuda', 70196, 54, 1299.93)]"
      ]
     },
     "execution_count": 17,
     "metadata": {},
     "output_type": "execute_result"
    }
   ],
   "source": [
    "%%sql\n",
    "SELECT name, population, area, \n",
    "       ROUND(CAST(population AS FLOAT) / area_land, 2) population_density\n",
    "  FROM facts\n",
    " ORDER BY population_density DESC\n",
    " LIMIT 10;"
   ]
  },
  {
   "cell_type": "markdown",
   "metadata": {},
   "source": [
    "[Macau](https://en.wikipedia.org/wiki/Macau) is a special administrative region in China, and is considered the most densely populated region in the world. \n",
    "\n",
    "If we are following this way why not calculating the average population density and figure out how many (and what) countries have densitites more than its average? The oceans, the EU, the world, have no values for `area_land` and/or for `population` so we do not need to explicitly exclude them from calculation. On the other hand, the Antarctica has both values, so it's necessary to exclude it."
   ]
  },
  {
   "cell_type": "code",
   "execution_count": 18,
   "metadata": {},
   "outputs": [
    {
     "name": "stdout",
     "output_type": "stream",
     "text": [
      " * sqlite:///factbook.db\n",
      "Done.\n"
     ]
    },
    {
     "data": {
      "text/html": [
       "<table>\n",
       "    <tr>\n",
       "        <th>avg_pop_density</th>\n",
       "    </tr>\n",
       "    <tr>\n",
       "        <td>431.91</td>\n",
       "    </tr>\n",
       "</table>"
      ],
      "text/plain": [
       "[(431.91,)]"
      ]
     },
     "execution_count": 18,
     "metadata": {},
     "output_type": "execute_result"
    }
   ],
   "source": [
    "%%sql\n",
    "SELECT ROUND(AVG(CAST(population AS FLOAT) / area_land), 2) avg_pop_density\n",
    "  FROM facts\n",
    " WHERE name NOT IN (\"Antarctica\")"
   ]
  },
  {
   "cell_type": "markdown",
   "metadata": {},
   "source": [
    "It's around 432 pop./km$^2$, the [density of the Netherlands](https://en.wikipedia.org/wiki/List_of_countries_and_dependencies_by_population_density), a state in Europe, a continent with one of the most highest densitites in the world. \n",
    "\n",
    "Let's now figure out how many countries (and what) have densities more than the average value."
   ]
  },
  {
   "cell_type": "code",
   "execution_count": 19,
   "metadata": {},
   "outputs": [
    {
     "name": "stdout",
     "output_type": "stream",
     "text": [
      " * sqlite:///factbook.db\n",
      "Done.\n"
     ]
    },
    {
     "data": {
      "text/html": [
       "<table>\n",
       "    <tr>\n",
       "        <th>more_avg_dens</th>\n",
       "    </tr>\n",
       "    <tr>\n",
       "        <td>26</td>\n",
       "    </tr>\n",
       "</table>"
      ],
      "text/plain": [
       "[(26,)]"
      ]
     },
     "execution_count": 19,
     "metadata": {},
     "output_type": "execute_result"
    }
   ],
   "source": [
    "%%sql\n",
    "SELECT COUNT(*) more_avg_dens\n",
    "  FROM facts\n",
    " WHERE CAST(population AS FLOAT) / area_land > \n",
    "                                        (\n",
    "                                        SELECT AVG(CAST(population AS FLOAT) / area_land) \n",
    "                                          FROM facts\n",
    "                                         WHERE name NOT IN (\"Antarctica\")                         \n",
    "                                        )"
   ]
  },
  {
   "cell_type": "code",
   "execution_count": 20,
   "metadata": {},
   "outputs": [
    {
     "name": "stdout",
     "output_type": "stream",
     "text": [
      " * sqlite:///factbook.db\n",
      "Done.\n"
     ]
    },
    {
     "data": {
      "text/html": [
       "<table>\n",
       "    <tr>\n",
       "        <th>name</th>\n",
       "        <th>population_density</th>\n",
       "    </tr>\n",
       "    <tr>\n",
       "        <td>Macau</td>\n",
       "        <td>21168.96</td>\n",
       "    </tr>\n",
       "    <tr>\n",
       "        <td>Monaco</td>\n",
       "        <td>15267.5</td>\n",
       "    </tr>\n",
       "    <tr>\n",
       "        <td>Singapore</td>\n",
       "        <td>8259.78</td>\n",
       "    </tr>\n",
       "    <tr>\n",
       "        <td>Hong Kong</td>\n",
       "        <td>6655.27</td>\n",
       "    </tr>\n",
       "    <tr>\n",
       "        <td>Gaza Strip</td>\n",
       "        <td>5191.82</td>\n",
       "    </tr>\n",
       "    <tr>\n",
       "        <td>Gibraltar</td>\n",
       "        <td>4876.33</td>\n",
       "    </tr>\n",
       "    <tr>\n",
       "        <td>Bahrain</td>\n",
       "        <td>1771.86</td>\n",
       "    </tr>\n",
       "    <tr>\n",
       "        <td>Maldives</td>\n",
       "        <td>1319.64</td>\n",
       "    </tr>\n",
       "    <tr>\n",
       "        <td>Malta</td>\n",
       "        <td>1310.02</td>\n",
       "    </tr>\n",
       "    <tr>\n",
       "        <td>Bermuda</td>\n",
       "        <td>1299.93</td>\n",
       "    </tr>\n",
       "    <tr>\n",
       "        <td>Bangladesh</td>\n",
       "        <td>1297.98</td>\n",
       "    </tr>\n",
       "    <tr>\n",
       "        <td>Sint Maarten</td>\n",
       "        <td>1167.32</td>\n",
       "    </tr>\n",
       "    <tr>\n",
       "        <td>Guernsey</td>\n",
       "        <td>847.18</td>\n",
       "    </tr>\n",
       "    <tr>\n",
       "        <td>Jersey</td>\n",
       "        <td>838.74</td>\n",
       "    </tr>\n",
       "    <tr>\n",
       "        <td>Taiwan</td>\n",
       "        <td>725.83</td>\n",
       "    </tr>\n",
       "    <tr>\n",
       "        <td>Barbados</td>\n",
       "        <td>675.82</td>\n",
       "    </tr>\n",
       "    <tr>\n",
       "        <td>Mauritius</td>\n",
       "        <td>660.01</td>\n",
       "    </tr>\n",
       "    <tr>\n",
       "        <td>Aruba</td>\n",
       "        <td>623.12</td>\n",
       "    </tr>\n",
       "    <tr>\n",
       "        <td>Lebanon</td>\n",
       "        <td>604.57</td>\n",
       "    </tr>\n",
       "    <tr>\n",
       "        <td>Saint Martin</td>\n",
       "        <td>588.04</td>\n",
       "    </tr>\n",
       "    <tr>\n",
       "        <td>San Marino</td>\n",
       "        <td>541.31</td>\n",
       "    </tr>\n",
       "    <tr>\n",
       "        <td>Rwanda</td>\n",
       "        <td>513.29</td>\n",
       "    </tr>\n",
       "    <tr>\n",
       "        <td>Korea, South</td>\n",
       "        <td>506.76</td>\n",
       "    </tr>\n",
       "    <tr>\n",
       "        <td>Netherlands</td>\n",
       "        <td>500.04</td>\n",
       "    </tr>\n",
       "    <tr>\n",
       "        <td>West Bank</td>\n",
       "        <td>493.86</td>\n",
       "    </tr>\n",
       "    <tr>\n",
       "        <td>Nauru</td>\n",
       "        <td>454.29</td>\n",
       "    </tr>\n",
       "</table>"
      ],
      "text/plain": [
       "[('Macau', 21168.96),\n",
       " ('Monaco', 15267.5),\n",
       " ('Singapore', 8259.78),\n",
       " ('Hong Kong', 6655.27),\n",
       " ('Gaza Strip', 5191.82),\n",
       " ('Gibraltar', 4876.33),\n",
       " ('Bahrain', 1771.86),\n",
       " ('Maldives', 1319.64),\n",
       " ('Malta', 1310.02),\n",
       " ('Bermuda', 1299.93),\n",
       " ('Bangladesh', 1297.98),\n",
       " ('Sint Maarten', 1167.32),\n",
       " ('Guernsey', 847.18),\n",
       " ('Jersey', 838.74),\n",
       " ('Taiwan', 725.83),\n",
       " ('Barbados', 675.82),\n",
       " ('Mauritius', 660.01),\n",
       " ('Aruba', 623.12),\n",
       " ('Lebanon', 604.57),\n",
       " ('Saint Martin', 588.04),\n",
       " ('San Marino', 541.31),\n",
       " ('Rwanda', 513.29),\n",
       " ('Korea, South', 506.76),\n",
       " ('Netherlands', 500.04),\n",
       " ('West Bank', 493.86),\n",
       " ('Nauru', 454.29)]"
      ]
     },
     "execution_count": 20,
     "metadata": {},
     "output_type": "execute_result"
    }
   ],
   "source": [
    "%%sql\n",
    "SELECT name, ROUND(CAST(population AS FLOAT) / area_land, 2) population_density\n",
    "  FROM facts\n",
    " WHERE CAST(population AS FLOAT) / area_land > \n",
    "                                        (\n",
    "                                        SELECT AVG(CAST(population AS FLOAT) / area_land) \n",
    "                                          FROM facts\n",
    "                                         WHERE name NOT IN (\"Antarctica\")                         \n",
    "                                        )\n",
    " ORDER BY population_density DESC;"
   ]
  },
  {
   "cell_type": "markdown",
   "metadata": {},
   "source": [
    "There are 26 countries which density is higher that the average density. It's interesting to note that the calculated value of 500 pop./km$^2$ for the Netherlands is much higher that the Wikipedia value. It's also interesting to note that the Netherlands in the only European continental state (not counting small states like Monaco) with a density higher that the average."
   ]
  },
  {
   "cell_type": "markdown",
   "metadata": {},
   "source": [
    "### Most and Least Added People\n",
    "It's also interesting to know which countries will add the most people to their population next year. We can calculate this by multiplication of the population by the population growth rate / 100 + 1 (because it's in percentage) - current population. If we order this table by the new column in ascending order we can figure out what countries would have added the least people."
   ]
  },
  {
   "cell_type": "code",
   "execution_count": 21,
   "metadata": {},
   "outputs": [
    {
     "name": "stdout",
     "output_type": "stream",
     "text": [
      " * sqlite:///factbook.db\n",
      "Done.\n"
     ]
    },
    {
     "data": {
      "text/plain": [
       "[]"
      ]
     },
     "execution_count": 21,
     "metadata": {},
     "output_type": "execute_result"
    }
   ],
   "source": [
    "%%sql\n",
    "CREATE VIEW add_people AS\n",
    "    SELECT name, population, population_growth, \n",
    "           ROUND(population * (population_growth / 100 + 1) - population, 0) AS added_people\n",
    "     FROM facts;"
   ]
  },
  {
   "cell_type": "code",
   "execution_count": 22,
   "metadata": {},
   "outputs": [
    {
     "name": "stdout",
     "output_type": "stream",
     "text": [
      " * sqlite:///factbook.db\n",
      "Done.\n"
     ]
    },
    {
     "data": {
      "text/html": [
       "<table>\n",
       "    <tr>\n",
       "        <th>name</th>\n",
       "        <th>population</th>\n",
       "        <th>population_growth</th>\n",
       "        <th>added_people</th>\n",
       "    </tr>\n",
       "    <tr>\n",
       "        <td>World</td>\n",
       "        <td>7256490011</td>\n",
       "        <td>1.08</td>\n",
       "        <td>78370092.0</td>\n",
       "    </tr>\n",
       "    <tr>\n",
       "        <td>India</td>\n",
       "        <td>1251695584</td>\n",
       "        <td>1.22</td>\n",
       "        <td>15270686.0</td>\n",
       "    </tr>\n",
       "    <tr>\n",
       "        <td>China</td>\n",
       "        <td>1367485388</td>\n",
       "        <td>0.45</td>\n",
       "        <td>6153684.0</td>\n",
       "    </tr>\n",
       "    <tr>\n",
       "        <td>Nigeria</td>\n",
       "        <td>181562056</td>\n",
       "        <td>2.45</td>\n",
       "        <td>4448270.0</td>\n",
       "    </tr>\n",
       "    <tr>\n",
       "        <td>Pakistan</td>\n",
       "        <td>199085847</td>\n",
       "        <td>1.46</td>\n",
       "        <td>2906653.0</td>\n",
       "    </tr>\n",
       "    <tr>\n",
       "        <td>Ethiopia</td>\n",
       "        <td>99465819</td>\n",
       "        <td>2.89</td>\n",
       "        <td>2874562.0</td>\n",
       "    </tr>\n",
       "    <tr>\n",
       "        <td>Bangladesh</td>\n",
       "        <td>168957745</td>\n",
       "        <td>1.6</td>\n",
       "        <td>2703324.0</td>\n",
       "    </tr>\n",
       "    <tr>\n",
       "        <td>United States</td>\n",
       "        <td>321368864</td>\n",
       "        <td>0.78</td>\n",
       "        <td>2506677.0</td>\n",
       "    </tr>\n",
       "    <tr>\n",
       "        <td>Indonesia</td>\n",
       "        <td>255993674</td>\n",
       "        <td>0.92</td>\n",
       "        <td>2355142.0</td>\n",
       "    </tr>\n",
       "    <tr>\n",
       "        <td>Congo, Democratic Republic of the</td>\n",
       "        <td>79375136</td>\n",
       "        <td>2.45</td>\n",
       "        <td>1944691.0</td>\n",
       "    </tr>\n",
       "    <tr>\n",
       "        <td>Philippines</td>\n",
       "        <td>100998376</td>\n",
       "        <td>1.61</td>\n",
       "        <td>1626074.0</td>\n",
       "    </tr>\n",
       "</table>"
      ],
      "text/plain": [
       "[('World', 7256490011, 1.08, 78370092.0),\n",
       " ('India', 1251695584, 1.22, 15270686.0),\n",
       " ('China', 1367485388, 0.45, 6153684.0),\n",
       " ('Nigeria', 181562056, 2.45, 4448270.0),\n",
       " ('Pakistan', 199085847, 1.46, 2906653.0),\n",
       " ('Ethiopia', 99465819, 2.89, 2874562.0),\n",
       " ('Bangladesh', 168957745, 1.6, 2703324.0),\n",
       " ('United States', 321368864, 0.78, 2506677.0),\n",
       " ('Indonesia', 255993674, 0.92, 2355142.0),\n",
       " ('Congo, Democratic Republic of the', 79375136, 2.45, 1944691.0),\n",
       " ('Philippines', 100998376, 1.61, 1626074.0)]"
      ]
     },
     "execution_count": 22,
     "metadata": {},
     "output_type": "execute_result"
    }
   ],
   "source": [
    "%%sql\n",
    "SELECT *\n",
    "  FROM add_people\n",
    " ORDER BY added_people DESC\n",
    " LIMIT 11;"
   ]
  },
  {
   "cell_type": "code",
   "execution_count": 23,
   "metadata": {},
   "outputs": [
    {
     "name": "stdout",
     "output_type": "stream",
     "text": [
      " * sqlite:///factbook.db\n",
      "Done.\n"
     ]
    },
    {
     "data": {
      "text/html": [
       "<table>\n",
       "    <tr>\n",
       "        <th>name</th>\n",
       "        <th>population</th>\n",
       "        <th>population_growth</th>\n",
       "        <th>added_people</th>\n",
       "    </tr>\n",
       "    <tr>\n",
       "        <td>Holy See (Vatican City)</td>\n",
       "        <td>842</td>\n",
       "        <td>0.0</td>\n",
       "        <td>0.0</td>\n",
       "    </tr>\n",
       "    <tr>\n",
       "        <td>Cocos (Keeling) Islands</td>\n",
       "        <td>596</td>\n",
       "        <td>0.0</td>\n",
       "        <td>0.0</td>\n",
       "    </tr>\n",
       "    <tr>\n",
       "        <td>Norfolk Island</td>\n",
       "        <td>2210</td>\n",
       "        <td>0.01</td>\n",
       "        <td>0.0</td>\n",
       "    </tr>\n",
       "    <tr>\n",
       "        <td>Greenland</td>\n",
       "        <td>57733</td>\n",
       "        <td>0.0</td>\n",
       "        <td>0.0</td>\n",
       "    </tr>\n",
       "    <tr>\n",
       "        <td>Niue</td>\n",
       "        <td>1190</td>\n",
       "        <td>0.03</td>\n",
       "        <td>0.0</td>\n",
       "    </tr>\n",
       "    <tr>\n",
       "        <td>Tokelau</td>\n",
       "        <td>1337</td>\n",
       "        <td>0.01</td>\n",
       "        <td>0.0</td>\n",
       "    </tr>\n",
       "    <tr>\n",
       "        <td>Falkland Islands (Islas Malvinas)</td>\n",
       "        <td>3361</td>\n",
       "        <td>0.01</td>\n",
       "        <td>0.0</td>\n",
       "    </tr>\n",
       "    <tr>\n",
       "        <td>Pitcairn Islands</td>\n",
       "        <td>48</td>\n",
       "        <td>0.0</td>\n",
       "        <td>0.0</td>\n",
       "    </tr>\n",
       "    <tr>\n",
       "        <td>Svalbard</td>\n",
       "        <td>1872</td>\n",
       "        <td>0.03</td>\n",
       "        <td>1.0</td>\n",
       "    </tr>\n",
       "    <tr>\n",
       "        <td>Christmas Island</td>\n",
       "        <td>1530</td>\n",
       "        <td>1.11</td>\n",
       "        <td>17.0</td>\n",
       "    </tr>\n",
       "</table>"
      ],
      "text/plain": [
       "[('Holy See (Vatican City)', 842, 0.0, 0.0),\n",
       " ('Cocos (Keeling) Islands', 596, 0.0, 0.0),\n",
       " ('Norfolk Island', 2210, 0.01, 0.0),\n",
       " ('Greenland', 57733, 0.0, 0.0),\n",
       " ('Niue', 1190, 0.03, 0.0),\n",
       " ('Tokelau', 1337, 0.01, 0.0),\n",
       " ('Falkland Islands (Islas Malvinas)', 3361, 0.01, 0.0),\n",
       " ('Pitcairn Islands', 48, 0.0, 0.0),\n",
       " ('Svalbard', 1872, 0.03, 1.0),\n",
       " ('Christmas Island', 1530, 1.11, 17.0)]"
      ]
     },
     "execution_count": 23,
     "metadata": {},
     "output_type": "execute_result"
    }
   ],
   "source": [
    "%%sql\n",
    "SELECT *\n",
    "  FROM add_people\n",
    " WHERE added_people IS NOT NULL\n",
    " ORDER BY added_people\n",
    " LIMIT 10;"
   ]
  },
  {
   "cell_type": "markdown",
   "metadata": {},
   "source": [
    "It's interesting to notice the USA in this least as the only developed country (it's also arguably China) in this list that would have added people in the year 2016. It's also curious to figure out that China with its policy 'One family - one child' has more than two times smaller number of new people than India that has not such policy.\n",
    "\n",
    "As for the countries with the least added people we notice [Svalbard](https://en.wikipedia.org/wiki/Svalbard), a Norwegian archipelago in the Arctic Ocean and [Christmas Island](https://en.wikipedia.org/wiki/Christmas_Island), an Australian external territory in the Indian Ocean, both adding just 1 and 17 persons, respectively."
   ]
  },
  {
   "cell_type": "markdown",
   "metadata": {},
   "source": [
    "### Birth and Death Rates\n",
    "Let's figure out how many and which countries have a higher death rate than the birth rate. This value is called \"Rate of Natural population increase\" and is calculated as \"birth rate - death rate\"."
   ]
  },
  {
   "cell_type": "code",
   "execution_count": 24,
   "metadata": {},
   "outputs": [
    {
     "name": "stdout",
     "output_type": "stream",
     "text": [
      " * sqlite:///factbook.db\n",
      "Done.\n"
     ]
    },
    {
     "data": {
      "text/html": [
       "<table>\n",
       "    <tr>\n",
       "        <th>name</th>\n",
       "        <th>natural_pop_increase</th>\n",
       "    </tr>\n",
       "    <tr>\n",
       "        <td>Bulgaria</td>\n",
       "        <td>-5.52</td>\n",
       "    </tr>\n",
       "    <tr>\n",
       "        <td>Serbia</td>\n",
       "        <td>-4.58</td>\n",
       "    </tr>\n",
       "    <tr>\n",
       "        <td>Latvia</td>\n",
       "        <td>-4.31</td>\n",
       "    </tr>\n",
       "    <tr>\n",
       "        <td>Lithuania</td>\n",
       "        <td>-4.17</td>\n",
       "    </tr>\n",
       "    <tr>\n",
       "        <td>Ukraine</td>\n",
       "        <td>-3.74</td>\n",
       "    </tr>\n",
       "    <tr>\n",
       "        <td>Hungary</td>\n",
       "        <td>-3.57</td>\n",
       "    </tr>\n",
       "    <tr>\n",
       "        <td>Germany</td>\n",
       "        <td>-2.95</td>\n",
       "    </tr>\n",
       "    <tr>\n",
       "        <td>Slovenia</td>\n",
       "        <td>-2.95</td>\n",
       "    </tr>\n",
       "    <tr>\n",
       "        <td>Romania</td>\n",
       "        <td>-2.76</td>\n",
       "    </tr>\n",
       "    <tr>\n",
       "        <td>Croatia</td>\n",
       "        <td>-2.73</td>\n",
       "    </tr>\n",
       "</table>"
      ],
      "text/plain": [
       "[('Bulgaria', -5.52),\n",
       " ('Serbia', -4.58),\n",
       " ('Latvia', -4.31),\n",
       " ('Lithuania', -4.17),\n",
       " ('Ukraine', -3.74),\n",
       " ('Hungary', -3.57),\n",
       " ('Germany', -2.95),\n",
       " ('Slovenia', -2.95),\n",
       " ('Romania', -2.76),\n",
       " ('Croatia', -2.73)]"
      ]
     },
     "execution_count": 24,
     "metadata": {},
     "output_type": "execute_result"
    }
   ],
   "source": [
    "%%sql \n",
    "SELECT name, ROUND(birth_rate - death_rate, 2) AS natural_pop_increase\n",
    "  FROM facts\n",
    " WHERE natural_pop_increase IS NOT NULL\n",
    " ORDER BY natural_pop_increase\n",
    " LIMIT 10;"
   ]
  },
  {
   "cell_type": "markdown",
   "metadata": {},
   "source": [
    "Bulgaria, Serbia and Latvia are three countries with the most negative natural population increase."
   ]
  },
  {
   "cell_type": "markdown",
   "metadata": {},
   "source": [
    "### Highest Water-to-Land Ratio\n",
    "Let's now compare the  water-to-land ratios to figure out what countries are the most waterful (hoorah, we've just invented a new word)!"
   ]
  },
  {
   "cell_type": "code",
   "execution_count": 25,
   "metadata": {},
   "outputs": [
    {
     "name": "stdout",
     "output_type": "stream",
     "text": [
      " * sqlite:///factbook.db\n",
      "Done.\n"
     ]
    },
    {
     "data": {
      "text/html": [
       "<table>\n",
       "    <tr>\n",
       "        <th>name</th>\n",
       "        <th>area_land</th>\n",
       "        <th>area_water</th>\n",
       "        <th>water_to_land</th>\n",
       "    </tr>\n",
       "    <tr>\n",
       "        <td>British Indian Ocean Territory</td>\n",
       "        <td>60</td>\n",
       "        <td>54340</td>\n",
       "        <td>905.67</td>\n",
       "    </tr>\n",
       "    <tr>\n",
       "        <td>Virgin Islands</td>\n",
       "        <td>346</td>\n",
       "        <td>1564</td>\n",
       "        <td>4.52</td>\n",
       "    </tr>\n",
       "    <tr>\n",
       "        <td>Puerto Rico</td>\n",
       "        <td>8870</td>\n",
       "        <td>4921</td>\n",
       "        <td>0.55</td>\n",
       "    </tr>\n",
       "    <tr>\n",
       "        <td>Bahamas, The</td>\n",
       "        <td>10010</td>\n",
       "        <td>3870</td>\n",
       "        <td>0.39</td>\n",
       "    </tr>\n",
       "    <tr>\n",
       "        <td>Guinea-Bissau</td>\n",
       "        <td>28120</td>\n",
       "        <td>8005</td>\n",
       "        <td>0.28</td>\n",
       "    </tr>\n",
       "    <tr>\n",
       "        <td>Malawi</td>\n",
       "        <td>94080</td>\n",
       "        <td>24404</td>\n",
       "        <td>0.26</td>\n",
       "    </tr>\n",
       "    <tr>\n",
       "        <td>Netherlands</td>\n",
       "        <td>33893</td>\n",
       "        <td>7650</td>\n",
       "        <td>0.23</td>\n",
       "    </tr>\n",
       "    <tr>\n",
       "        <td>Uganda</td>\n",
       "        <td>197100</td>\n",
       "        <td>43938</td>\n",
       "        <td>0.22</td>\n",
       "    </tr>\n",
       "    <tr>\n",
       "        <td>Eritrea</td>\n",
       "        <td>101000</td>\n",
       "        <td>16600</td>\n",
       "        <td>0.16</td>\n",
       "    </tr>\n",
       "    <tr>\n",
       "        <td>Liberia</td>\n",
       "        <td>96320</td>\n",
       "        <td>15049</td>\n",
       "        <td>0.16</td>\n",
       "    </tr>\n",
       "</table>"
      ],
      "text/plain": [
       "[('British Indian Ocean Territory', 60, 54340, 905.67),\n",
       " ('Virgin Islands', 346, 1564, 4.52),\n",
       " ('Puerto Rico', 8870, 4921, 0.55),\n",
       " ('Bahamas, The', 10010, 3870, 0.39),\n",
       " ('Guinea-Bissau', 28120, 8005, 0.28),\n",
       " ('Malawi', 94080, 24404, 0.26),\n",
       " ('Netherlands', 33893, 7650, 0.23),\n",
       " ('Uganda', 197100, 43938, 0.22),\n",
       " ('Eritrea', 101000, 16600, 0.16),\n",
       " ('Liberia', 96320, 15049, 0.16)]"
      ]
     },
     "execution_count": 25,
     "metadata": {},
     "output_type": "execute_result"
    }
   ],
   "source": [
    "%%sql\n",
    "SELECT name, area_land, area_water, ROUND(CAST(area_water AS FLOAT) / area_land, 2) AS water_to_land\n",
    "  FROM facts\n",
    " ORDER BY Water_to_land DESC\n",
    " LIMIT 10;"
   ]
  },
  {
   "cell_type": "markdown",
   "metadata": {},
   "source": [
    "The [British Indian Ocean Territory](https://en.wikipedia.org/wiki/British_Indian_Ocean_Territory) stands out in the list having the water-to-land ratio more than 200 times bigger than the second place (Virgin Islands). It's a group of attols with more than 1000 individual islands with a total area of 54 400 square kilometers so it's no surprise it has such a big ratio. \n",
    "\n",
    "## Conclusions\n",
    "\n",
    "The main objective of this project though was to understand how the basic SQL code works and what information could be extracted using SQL. We analyzed the CIA Factbook Data and answered some summary questions about the database and discovered some interesting facts about the world's countries:\n",
    "* [Pitcairn Islands](https://en.wikipedia.org/wiki/Pitcairn_Islands) are a part of the British Overseas Territories and it's the least populous national jurisdiction in the world!\n",
    "* [Macau](https://en.wikipedia.org/wiki/Macau), located in China, is a territory with the highest population density in the world.\n",
    "* [British Indian Ocean Territory](https://en.wikipedia.org/wiki/British_Indian_Ocean_Territory) is a territory in the Indian Ocean with the highest water-to-land ration (more than 900 times)."
   ]
  }
 ],
 "metadata": {
  "kernelspec": {
   "display_name": "Python 3",
   "language": "python",
   "name": "python3"
  },
  "language_info": {
   "codemirror_mode": {
    "name": "ipython",
    "version": 3
   },
   "file_extension": ".py",
   "mimetype": "text/x-python",
   "name": "python",
   "nbconvert_exporter": "python",
   "pygments_lexer": "ipython3",
   "version": "3.8.3"
  }
 },
 "nbformat": 4,
 "nbformat_minor": 4
}
